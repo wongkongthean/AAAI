{
  "nbformat": 4,
  "nbformat_minor": 0,
  "metadata": {
    "colab": {
      "provenance": [],
      "authorship_tag": "ABX9TyNaER4tBFY0NyBRKK7/HsV0",
      "include_colab_link": true
    },
    "kernelspec": {
      "name": "python3",
      "display_name": "Python 3"
    },
    "language_info": {
      "name": "python"
    }
  },
  "cells": [
    {
      "cell_type": "markdown",
      "metadata": {
        "id": "view-in-github",
        "colab_type": "text"
      },
      "source": [
        "<a href=\"https://colab.research.google.com/github/wongkongthean/AAAI/blob/main/Market_data_from_Yahoo!_Finance_API_5.ipynb\" target=\"_parent\"><img src=\"https://colab.research.google.com/assets/colab-badge.svg\" alt=\"Open In Colab\"/></a>"
      ]
    },
    {
      "cell_type": "code",
      "execution_count": null,
      "metadata": {
        "id": "TnistyggJdDn"
      },
      "outputs": [],
      "source": []
    },
    {
      "cell_type": "code",
      "source": [
        "\"\"\"\n",
        "***Download market data from Yahoo! Finance's API***\n",
        "yfinance 0.2.41\n",
        "yfinance · PyPI\n",
        "https://pypi.org/project/yfinance/\n",
        "\"\"\""
      ],
      "metadata": {
        "colab": {
          "base_uri": "https://localhost:8080/",
          "height": 35
        },
        "id": "NReJRLaaJiG7",
        "outputId": "8c028308-aef5-4f9a-f63e-1ffff7e7ac5a"
      },
      "execution_count": null,
      "outputs": [
        {
          "output_type": "execute_result",
          "data": {
            "text/plain": [
              "\"\\n***Download market data from Yahoo! Finance's API***\\nyfinance 0.2.41\\nyfinance · PyPI\\nhttps://pypi.org/project/yfinance/\\n\""
            ],
            "application/vnd.google.colaboratory.intrinsic+json": {
              "type": "string"
            }
          },
          "metadata": {},
          "execution_count": 18
        }
      ]
    },
    {
      "cell_type": "code",
      "source": [
        "!pip install yfinance --upgrade --no-cache-dir"
      ],
      "metadata": {
        "colab": {
          "base_uri": "https://localhost:8080/"
        },
        "id": "jYCMUi90Ji6v",
        "outputId": "ffa24c00-ff7b-461d-dee9-250170b84c73"
      },
      "execution_count": null,
      "outputs": [
        {
          "output_type": "stream",
          "name": "stdout",
          "text": [
            "Requirement already satisfied: yfinance in /usr/local/lib/python3.10/dist-packages (0.2.41)\n",
            "Requirement already satisfied: pandas>=1.3.0 in /usr/local/lib/python3.10/dist-packages (from yfinance) (2.0.3)\n",
            "Requirement already satisfied: numpy>=1.16.5 in /usr/local/lib/python3.10/dist-packages (from yfinance) (1.25.2)\n",
            "Requirement already satisfied: requests>=2.31 in /usr/local/lib/python3.10/dist-packages (from yfinance) (2.31.0)\n",
            "Requirement already satisfied: multitasking>=0.0.7 in /usr/local/lib/python3.10/dist-packages (from yfinance) (0.0.11)\n",
            "Requirement already satisfied: lxml>=4.9.1 in /usr/local/lib/python3.10/dist-packages (from yfinance) (4.9.4)\n",
            "Requirement already satisfied: platformdirs>=2.0.0 in /usr/local/lib/python3.10/dist-packages (from yfinance) (4.2.2)\n",
            "Requirement already satisfied: pytz>=2022.5 in /usr/local/lib/python3.10/dist-packages (from yfinance) (2023.4)\n",
            "Requirement already satisfied: frozendict>=2.3.4 in /usr/local/lib/python3.10/dist-packages (from yfinance) (2.4.4)\n",
            "Requirement already satisfied: peewee>=3.16.2 in /usr/local/lib/python3.10/dist-packages (from yfinance) (3.17.6)\n",
            "Requirement already satisfied: beautifulsoup4>=4.11.1 in /usr/local/lib/python3.10/dist-packages (from yfinance) (4.12.3)\n",
            "Requirement already satisfied: html5lib>=1.1 in /usr/local/lib/python3.10/dist-packages (from yfinance) (1.1)\n",
            "Requirement already satisfied: soupsieve>1.2 in /usr/local/lib/python3.10/dist-packages (from beautifulsoup4>=4.11.1->yfinance) (2.5)\n",
            "Requirement already satisfied: six>=1.9 in /usr/local/lib/python3.10/dist-packages (from html5lib>=1.1->yfinance) (1.16.0)\n",
            "Requirement already satisfied: webencodings in /usr/local/lib/python3.10/dist-packages (from html5lib>=1.1->yfinance) (0.5.1)\n",
            "Requirement already satisfied: python-dateutil>=2.8.2 in /usr/local/lib/python3.10/dist-packages (from pandas>=1.3.0->yfinance) (2.8.2)\n",
            "Requirement already satisfied: tzdata>=2022.1 in /usr/local/lib/python3.10/dist-packages (from pandas>=1.3.0->yfinance) (2024.1)\n",
            "Requirement already satisfied: charset-normalizer<4,>=2 in /usr/local/lib/python3.10/dist-packages (from requests>=2.31->yfinance) (3.3.2)\n",
            "Requirement already satisfied: idna<4,>=2.5 in /usr/local/lib/python3.10/dist-packages (from requests>=2.31->yfinance) (3.7)\n",
            "Requirement already satisfied: urllib3<3,>=1.21.1 in /usr/local/lib/python3.10/dist-packages (from requests>=2.31->yfinance) (2.0.7)\n",
            "Requirement already satisfied: certifi>=2017.4.17 in /usr/local/lib/python3.10/dist-packages (from requests>=2.31->yfinance) (2024.7.4)\n"
          ]
        }
      ]
    },
    {
      "cell_type": "code",
      "source": [
        "import yfinance as yf\n",
        "\n",
        "msft = yf.Ticker(\"MSFT\")\n",
        "\n",
        "# get all stock info\n",
        "msft.info\n",
        "\n",
        "# get historical market data\n",
        "hist = msft.history(period=\"1mo\")\n",
        "\n",
        "# show meta information about the history (requires history() to be called first)\n",
        "msft.history_metadata\n",
        "\n",
        "# show actions (dividends, splits, capital gains)\n",
        "msft.actions\n",
        "msft.dividends\n",
        "msft.splits\n",
        "msft.capital_gains  # only for mutual funds & etfs\n",
        "\n",
        "# show share count\n",
        "msft.get_shares_full(start=\"2022-01-01\", end=None)\n",
        "\n",
        "# show financials:\n",
        "# - income statement\n",
        "msft.income_stmt\n",
        "msft.quarterly_income_stmt\n",
        "# - balance sheet\n",
        "msft.balance_sheet\n",
        "msft.quarterly_balance_sheet\n",
        "# - cash flow statement\n",
        "msft.cashflow\n",
        "msft.quarterly_cashflow\n",
        "# see `Ticker.get_income_stmt()` for more options\n",
        "\n",
        "# show holders\n",
        "msft.major_holders\n",
        "msft.institutional_holders\n",
        "msft.mutualfund_holders\n",
        "msft.insider_transactions\n",
        "msft.insider_purchases\n",
        "msft.insider_roster_holders\n",
        "\n",
        "msft.sustainability\n",
        "\n",
        "# show recommendations\n",
        "msft.recommendations\n",
        "msft.recommendations_summary\n",
        "msft.upgrades_downgrades\n",
        "\n",
        "# Show future and historic earnings dates, returns at most next 4 quarters and last 8 quarters by default.\n",
        "# Note: If more are needed use msft.get_earnings_dates(limit=XX) with increased limit argument.\n",
        "msft.earnings_dates\n",
        "\n",
        "# show ISIN code - *experimental*\n",
        "# ISIN = International Securities Identification Number\n",
        "msft.isin\n",
        "\n",
        "# show options expirations\n",
        "msft.options\n",
        "\n",
        "# show news\n",
        "msft.news\n",
        "\n",
        "# get option chain for specific expiration\n",
        "#opt = msft.option_chain('YYYY-MM-DD')\n",
        "opt = msft.option_chain('2026-12-18')\n",
        "# data available via: opt.calls, opt.putspip install yfinance --upgrade --no-cache-dir\n",
        "\n",
        "print (msft.news)\n",
        "#print (opt)"
      ],
      "metadata": {
        "colab": {
          "base_uri": "https://localhost:8080/"
        },
        "id": "dreJdsh1JjUQ",
        "outputId": "b9e4e9f3-70e7-41e1-bd3a-63006ed191b9"
      },
      "execution_count": null,
      "outputs": [
        {
          "output_type": "stream",
          "name": "stdout",
          "text": [
            "[{'uuid': 'f39b94a3-ab28-3c76-bd0e-98c3bd99b7f3', 'title': 'Blue Screens Everywhere Are Latest Tech Woe for Microsoft', 'publisher': 'The Wall Street Journal', 'link': 'https://finance.yahoo.com/m/f39b94a3-ab28-3c76-bd0e-98c3bd99b7f3/blue-screens-everywhere-are.html', 'providerPublishTime': 1721534580, 'type': 'STORY', 'thumbnail': {'resolutions': [{'url': 'https://s.yimg.com/uu/api/res/1.2/pR99BCtWRmucEKDsSzIKXg--~B/aD02NDA7dz0xMjgwO2FwcGlkPXl0YWNoeW9u/https://media.zenfs.com/en/wsj.com/d66778747ef7ae571cb022a662b57cae', 'width': 1280, 'height': 640, 'tag': 'original'}, {'url': 'https://s.yimg.com/uu/api/res/1.2/qsUiKuiKPxStVEaO05gNfw--~B/Zmk9ZmlsbDtoPTE0MDtweW9mZj0wO3c9MTQwO2FwcGlkPXl0YWNoeW9u/https://media.zenfs.com/en/wsj.com/d66778747ef7ae571cb022a662b57cae', 'width': 140, 'height': 140, 'tag': '140x140'}]}, 'relatedTickers': ['CRWD', 'MSFT']}, {'uuid': '344b3643-6c55-3da8-9e21-704b309d8344', 'title': 'Morningstar | A Weekly Summary of Stock Ideas and Developments in the Companies We Cover', 'publisher': 'Morningstar Research', 'link': 'https://finance.yahoo.com/m/344b3643-6c55-3da8-9e21-704b309d8344/morningstar-%7C-a-weekly.html', 'providerPublishTime': 1721522708, 'type': 'STORY', 'thumbnail': {'resolutions': [{'url': 'https://s.yimg.com/uu/api/res/1.2/SVKRhvYIgdoUv2HlogaP.A--~B/aD0wO3c9MDthcHBpZD15dGFjaHlvbg--/https://s.yimg.com/uc/fin/img/non-sub-report-thumb.png', 'width': 0, 'height': 0, 'tag': 'original'}]}, 'relatedTickers': ['PEGA', 'DASH', 'AZPN', 'TRV', 'DSGX', 'MANH', 'GWRE', 'GRAB', 'GRABW', 'UBER', 'BSX', 'EW', 'TEAM', 'M', 'TWLO', 'TYL', 'CRM', 'DOCU', 'BLKB', 'NOW', 'MDT', 'ABT', 'HUBS', 'ADBE', 'RNG', 'MSFT', 'SHOP']}, {'uuid': '4bedaa02-6d25-37aa-b440-04c2215199f9', 'title': 'Can Twilio Come Back in the Second Half of 2024?', 'publisher': 'Motley Fool', 'link': 'https://finance.yahoo.com/m/4bedaa02-6d25-37aa-b440-04c2215199f9/can-twilio-come-back-in-the.html', 'providerPublishTime': 1721498460, 'type': 'STORY', 'thumbnail': {'resolutions': [{'url': 'https://s.yimg.com/uu/api/res/1.2/KARK8DqZo4v7xN7o5Q.tOw--~B/aD00NDE7dz03MjA7YXBwaWQ9eXRhY2h5b24-/https://media.zenfs.com/en/motleyfool.com/14fac1027102b5f95c6817d59f67bd0e', 'width': 720, 'height': 441, 'tag': 'original'}, {'url': 'https://s.yimg.com/uu/api/res/1.2/GXWcq8Y5FeDkcwPKOzMVqg--~B/Zmk9ZmlsbDtoPTE0MDtweW9mZj0wO3c9MTQwO2FwcGlkPXl0YWNoeW9u/https://media.zenfs.com/en/motleyfool.com/14fac1027102b5f95c6817d59f67bd0e', 'width': 140, 'height': 140, 'tag': '140x140'}]}, 'relatedTickers': ['TWLO', 'MSFT']}, {'uuid': '3a3ecd62-c8bd-331b-b966-80ac2de83d07', 'title': 'Malicious actors trying to exploit global tech outage for their own gain', 'publisher': 'Associated Press Finance', 'link': 'https://finance.yahoo.com/news/8-5-million-computers-running-172146811.html', 'providerPublishTime': 1721496106, 'type': 'STORY', 'thumbnail': {'resolutions': [{'url': 'https://s.yimg.com/uu/api/res/1.2/rnsGgnBF.luozWfoUBDKWg--~B/aD0yODA1O3c9NDIwNzthcHBpZD15dGFjaHlvbg--/https://media.zenfs.com/en/ap_finance_articles_694/d85d6f866f6d35f5a260707ce36dcb15', 'width': 4207, 'height': 2805, 'tag': 'original'}, {'url': 'https://s.yimg.com/uu/api/res/1.2/AF4mVgggrCH3l3tqF7mbaw--~B/Zmk9ZmlsbDtoPTE0MDtweW9mZj0wO3c9MTQwO2FwcGlkPXl0YWNoeW9u/https://media.zenfs.com/en/ap_finance_articles_694/d85d6f866f6d35f5a260707ce36dcb15', 'width': 140, 'height': 140, 'tag': '140x140'}]}, 'relatedTickers': ['CRWD', 'MSFT']}, {'uuid': '7243edd2-f17e-376b-8e68-c1ff97f25d41', 'title': 'Microsoft says about 8.5 million of its devices affected by CrowdStrike-related outage', 'publisher': 'Reuters', 'link': 'https://finance.yahoo.com/news/microsoft-says-8-5-million-162124624.html', 'providerPublishTime': 1721492484, 'type': 'STORY', 'thumbnail': {'resolutions': [{'url': 'https://s.yimg.com/uu/api/res/1.2/OTEHhVR44tBweoKw9Wmshg--~B/aD01MzQ7dz04MDA7YXBwaWQ9eXRhY2h5b24-/https://media.zenfs.com/en/reuters-finance.com/78c71cde9768a0adabac6a9c8360d2c5', 'width': 800, 'height': 534, 'tag': 'original'}, {'url': 'https://s.yimg.com/uu/api/res/1.2/uyiy_FK7RKaZcuCBK94KrQ--~B/Zmk9ZmlsbDtoPTE0MDtweW9mZj0wO3c9MTQwO2FwcGlkPXl0YWNoeW9u/https://media.zenfs.com/en/reuters-finance.com/78c71cde9768a0adabac6a9c8360d2c5', 'width': 140, 'height': 140, 'tag': '140x140'}]}, 'relatedTickers': ['CRWD', 'MSFT']}, {'uuid': '62bc45d1-0cde-373a-848b-95a2684f3d31', 'title': 'CrowdStrike Outage Cripples Flights, Banks, and Markets. Here’s the Latest.', 'publisher': 'Barrons.com', 'link': 'https://finance.yahoo.com/m/62bc45d1-0cde-373a-848b-95a2684f3d31/crowdstrike-outage-cripples.html', 'providerPublishTime': 1721491080, 'type': 'STORY', 'thumbnail': {'resolutions': [{'url': 'https://s.yimg.com/uu/api/res/1.2/m5lRhuxMYzv5IS5n4uXBUQ--~B/aD02NDA7dz0xMjgwO2FwcGlkPXl0YWNoeW9u/https://media.zenfs.com/en/Barrons.com/52246ca7d8b911ca6508e98748a0dc67', 'width': 1280, 'height': 640, 'tag': 'original'}, {'url': 'https://s.yimg.com/uu/api/res/1.2/J9KxFLHPZuHdNEUZ87Cr9A--~B/Zmk9ZmlsbDtoPTE0MDtweW9mZj0wO3c9MTQwO2FwcGlkPXl0YWNoeW9u/https://media.zenfs.com/en/Barrons.com/52246ca7d8b911ca6508e98748a0dc67', 'width': 140, 'height': 140, 'tag': '140x140'}]}, 'relatedTickers': ['CRWD', 'MSFT']}, {'uuid': '2b758731-ba45-3fea-8768-eaa70344d023', 'title': \"Microsoft Is Riding a Cloud Computing Surge. Can Investors Capitalize on Azure's Market-Share Growth and Artificial Intelligence (AI) Momentum?\", 'publisher': 'Motley Fool', 'link': 'https://finance.yahoo.com/m/2b758731-ba45-3fea-8768-eaa70344d023/microsoft-is-riding-a-cloud.html', 'providerPublishTime': 1721484300, 'type': 'STORY', 'thumbnail': {'resolutions': [{'url': 'https://s.yimg.com/uu/api/res/1.2/xnq_Sk1DPTHKrMKY9.dezA--~B/aD03ODc7dz0xNDAwO2FwcGlkPXl0YWNoeW9u/https://media.zenfs.com/en/motleyfool.com/9e4c7bcbc390679c0b87ccf80d4fe293', 'width': 1400, 'height': 787, 'tag': 'original'}, {'url': 'https://s.yimg.com/uu/api/res/1.2/Jj14fsBZXX_NI_3NXYjWcg--~B/Zmk9ZmlsbDtoPTE0MDtweW9mZj0wO3c9MTQwO2FwcGlkPXl0YWNoeW9u/https://media.zenfs.com/en/motleyfool.com/9e4c7bcbc390679c0b87ccf80d4fe293', 'width': 140, 'height': 140, 'tag': '140x140'}]}, 'relatedTickers': ['MSFT']}, {'uuid': '4f0fb37d-5fee-3027-83f4-024890082067', 'title': '1 No-Brainer Artificial Intelligence (AI) ETF to Buy Right Now for Less Than $1,000', 'publisher': 'Motley Fool', 'link': 'https://finance.yahoo.com/m/4f0fb37d-5fee-3027-83f4-024890082067/1-no-brainer-artificial.html', 'providerPublishTime': 1721483100, 'type': 'STORY', 'thumbnail': {'resolutions': [{'url': 'https://s.yimg.com/uu/api/res/1.2/qEH7GuuHwnQC2Wbo0whxIw--~B/aD00NTY7dz03MjA7YXBwaWQ9eXRhY2h5b24-/https://media.zenfs.com/en/motleyfool.com/fae8b13de6a0750deda4c338687bf6d7', 'width': 720, 'height': 456, 'tag': 'original'}, {'url': 'https://s.yimg.com/uu/api/res/1.2/ygnJ_gQ7cIQXTw_M80x13w--~B/Zmk9ZmlsbDtoPTE0MDtweW9mZj0wO3c9MTQwO2FwcGlkPXl0YWNoeW9u/https://media.zenfs.com/en/motleyfool.com/fae8b13de6a0750deda4c338687bf6d7', 'width': 140, 'height': 140, 'tag': '140x140'}]}, 'relatedTickers': ['NVDA', '^GSPC', 'MSFT', 'GOOG']}]\n"
          ]
        }
      ]
    },
    {
      "cell_type": "code",
      "source": [],
      "metadata": {
        "id": "UIYRwKw-Jjo_"
      },
      "execution_count": null,
      "outputs": []
    },
    {
      "cell_type": "code",
      "source": [],
      "metadata": {
        "id": "addRZBdZJj_i"
      },
      "execution_count": null,
      "outputs": []
    },
    {
      "cell_type": "code",
      "source": [],
      "metadata": {
        "id": "XW3P6if0JkWe"
      },
      "execution_count": null,
      "outputs": []
    },
    {
      "cell_type": "code",
      "source": [],
      "metadata": {
        "id": "Jao1nLMrJkss"
      },
      "execution_count": null,
      "outputs": []
    },
    {
      "cell_type": "code",
      "source": [],
      "metadata": {
        "id": "uGIjuvEpJlId"
      },
      "execution_count": null,
      "outputs": []
    },
    {
      "cell_type": "code",
      "source": [],
      "metadata": {
        "id": "pSoIrt7TJlnB"
      },
      "execution_count": null,
      "outputs": []
    },
    {
      "cell_type": "code",
      "source": [],
      "metadata": {
        "id": "X1aAEXKVJmC9"
      },
      "execution_count": null,
      "outputs": []
    }
  ]
}